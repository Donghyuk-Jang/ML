{
  "nbformat": 4,
  "nbformat_minor": 0,
  "metadata": {
    "colab": {
      "name": "모델평가및분석(2).ipynb",
      "provenance": [],
      "collapsed_sections": [],
      "authorship_tag": "ABX9TyOkl5ENRpaOP/oyrBpUq1CD",
      "include_colab_link": true
    },
    "kernelspec": {
      "name": "python3",
      "display_name": "Python 3"
    },
    "language_info": {
      "name": "python"
    }
  },
  "cells": [
    {
      "cell_type": "markdown",
      "metadata": {
        "id": "view-in-github",
        "colab_type": "text"
      },
      "source": [
        "<a href=\"https://colab.research.google.com/github/Donghyuk-Jang/ML/blob/main/2.%EB%AA%A8%EB%8D%B8%ED%8F%89%EA%B0%80%EB%B0%8F%EB%B6%84%EC%84%9D(2).ipynb\" target=\"_parent\"><img src=\"https://colab.research.google.com/assets/colab-badge.svg\" alt=\"Open In Colab\"/></a>"
      ]
    },
    {
      "cell_type": "code",
      "metadata": {
        "colab": {
          "base_uri": "https://localhost:8080/"
        },
        "id": "ztb-vj3n4WQB",
        "outputId": "03cd9a21-bfdb-440a-f02a-2bbd63b82802",
        "collapsed": true
      },
      "source": [
        "# 구글 마운트\n",
        "from google.colab import drive\n",
        "drive.mount('/content/drive')"
      ],
      "execution_count": null,
      "outputs": [
        {
          "output_type": "stream",
          "name": "stdout",
          "text": [
            "Mounted at /content/drive\n"
          ]
        }
      ]
    },
    {
      "cell_type": "markdown",
      "source": [
        "Binomial Test(이항검정)"
      ],
      "metadata": {
        "id": "h8j1_JSSpL-3"
      }
    },
    {
      "cell_type": "code",
      "metadata": {
        "id": "B0lEKpmn4XD5",
        "colab": {
          "base_uri": "https://localhost:8080/"
        },
        "outputId": "605f6353-0f5e-4f03-d038-29c126181fdb"
      },
      "source": [
        "from scipy.stats import binom_test\n",
        "\n",
        "binom_test(x=47, n=50, p=0.8, alternative='greater')\n",
        "# x : 성공 횟수\n",
        "# n: 총 시행 수\n",
        "# p : 한번 시행시 성공확률\n",
        "# alternative : 귀무가설 (양측 : two-sided )"
      ],
      "execution_count": null,
      "outputs": [
        {
          "output_type": "execute_result",
          "data": {
            "text/plain": [
              "0.005656361012155314"
            ]
          },
          "metadata": {},
          "execution_count": 5
        }
      ]
    },
    {
      "cell_type": "markdown",
      "source": [
        " t - test (t검정)"
      ],
      "metadata": {
        "id": "omku-nNkpohA"
      }
    },
    {
      "cell_type": "code",
      "source": [
        "import numpy as np\n",
        "from scipy import stats\n",
        "\n",
        "rand1 = np.random.randn(1000) + 3.0\n",
        "rand2 = np.random.randn(1000)\n",
        "\n",
        "t, p = stats.ttest_ind(rand1, rand2)\n",
        "# equal_var : 두 그룹의 분산이 같다면 True\n",
        "print(\"t = \" + str(t))\n",
        "print(\"p = \" + str(p))"
      ],
      "metadata": {
        "colab": {
          "base_uri": "https://localhost:8080/"
        },
        "id": "Esc6Hv0Cafpa",
        "outputId": "9cd7e9b0-7f2d-4cf4-aa7c-e70fe1ba955e"
      },
      "execution_count": null,
      "outputs": [
        {
          "output_type": "stream",
          "name": "stdout",
          "text": [
            "t = 70.01078570444105\n",
            "p = 0.0\n"
          ]
        }
      ]
    },
    {
      "cell_type": "markdown",
      "source": [
        " 대응 표본 t-test"
      ],
      "metadata": {
        "id": "5PbGaBgLpnVQ"
      }
    },
    {
      "cell_type": "code",
      "metadata": {
        "id": "iZhyr3IM47ya",
        "colab": {
          "base_uri": "https://localhost:8080/"
        },
        "outputId": "2b942797-2121-4d34-a7e2-8d2b8e90082e"
      },
      "source": [
        "# 쌍을 이루고 있는 두 값의 차이를 구함\n",
        "# 모집단에서 차이의 평균은 0이라고 귀무가설을 세움\n",
        "\n",
        "dat_M = [117, 108, 105, 89, 101, 93, 96, 108, 108, 94, 93, 112, 92, 91, 100, 96, 120, 86, 96, 95]\n",
        "dat_F = [121, 101, 102, 114, 103, 105, 101, 131, 96, 109, 109, 113, 115, 94, 108, 96, 110, 112, 120, 100]\n",
        "\n",
        "import scipy.stats\n",
        "\n",
        "scipy.stats.ttest_rel(dat_M, dat_F)\n",
        "\n",
        "# p < 0.05이므로 통계적으로 유의미한 차이가 있음"
      ],
      "execution_count": null,
      "outputs": [
        {
          "output_type": "execute_result",
          "data": {
            "text/plain": [
              "Ttest_relResult(statistic=-2.9868874599588247, pvalue=0.007578486289181322)"
            ]
          },
          "metadata": {},
          "execution_count": 7
        }
      ]
    },
    {
      "cell_type": "markdown",
      "source": [
        " 5 * 2 교차 검증 (5 times 2-fold Crossvalidation)"
      ],
      "metadata": {
        "id": "3jRlrV-wp1zK"
      }
    },
    {
      "cell_type": "code",
      "metadata": {
        "id": "XThH4fG75C5Z"
      },
      "source": [
        "seeds = [13, 51, 137, 24659, 347] # five times for each 2 -fold iterations\n",
        "p_1_1 = 0.0 # Initialize the score difference for the 1st fold of the 1st iteration \n",
        "s_sqr = 0.0 # Initialize a place holder for the variance estimate\n",
        "scores_1 = [] # Initialize scores list for both classifiers\n",
        "scores_2 = []\n",
        "diff_scores = []\n",
        "for i_s, seed in enumerate(seeds):\n",
        "    # 시드에 따른 2-fold 데이터셋 분리\n",
        "    folds = StratifiedKFold(n_splits=2, shuffle=True, random_state=seed)\n",
        "    # Initialize score differences\n",
        "    p_i = np.zeros(2)\n",
        "    for i_f, (trn_idx, val_idx) in enumerate(folds.split(target, target)):\n",
        "        # 데이터 분리\n",
        "        trn_x, trn_y = trn.iloc[trn_idx], target.iloc[trn_idx]\n",
        "        val_x, val_y = trn.iloc[val_idx], target.iloc[val_idx]\n",
        "        # 학습기\n",
        "        clf1.fit(trn_x, trn_y, eval_set=[(val_x, val_y)], early_stopping_rounds=20, verbose=0)\n",
        "        clf2.fit(trn_x, trn_y, eval_set=[(val_x, val_y)], early_stopping_rounds=20, verbose=0)\n",
        "        # score 계산\n",
        "        preds_1 = clf1.predict_proba(val_x, num_iteration=clf1.best_iteration_)[:, 1]\n",
        "        score_1 = roc_auc_score(val_y, preds_1)\n",
        "        preds_2 = clf2.predict_proba(val_x, num_iteration=clf2.best_iteration_)[:, 1]\n",
        "        score_2 = roc_auc_score(val_y, preds_2)\n",
        "        # 평균과 표준편차에 대한 score 저장\n",
        "        scores_1.append(score_1)\n",
        "        scores_2.append(score_2)\n",
        "        diff_scores.append(score_1 - score_2)\n",
        "        print(\"Fold %2d score difference = %.6f\" % (i_f + 1, score_1 - score_2))\n",
        "        # score difference 계산\n",
        "        p_i[i_f] = score_1 - score_2\n",
        "        # 1차 2겹 교차 검증의 두 결과값의 평균값만 구한다.\n",
        "        if (i_s == 0) & (i_f == 0):\n",
        "            p_1_1 = p_i[i_f]\n",
        "    # 1회 반복의 scores difference 평균값 게산\n",
        "    p_i_bar = (p_i[0] + p_i[1]) / 2\n",
        "    # 각 2겹 교차 검증의 분산을 계산합니다.\n",
        "    s_i_sqr = (p_i[0] - p_i_bar) ** 2 + (p_i[1] - p_i_bar) ** 2 \n",
        "    # 분산의 합을 산출합니다.\n",
        "    s_sqr += s_i_sqr\n",
        "    \n",
        "# 확률변수 계산\n",
        "t_bar = p_1_1 / ((s_sqr / 5) ** .5) \n",
        "\n",
        "print(\"Classifier 1 mean score and stdev : %.6f + %.6f\" % (np.mean(scores_1), np.std(scores_1)))\n",
        "print(\"Classifier 2 mean score and stdev : %.6f + %.6f\" % (np.mean(scores_2), np.std(scores_2)))\n",
        "print(\"Score difference mean + stdev : %.6f + %.6f\" \n",
        "      % (np.mean(diff_scores), np.std(diff_scores)))\n",
        "\n",
        "\n",
        "\"t_value for the current test is %.6f\" % t_bar"
      ],
      "execution_count": null,
      "outputs": []
    },
    {
      "cell_type": "markdown",
      "source": [
        "맥니마 검정(mcnemar test)"
      ],
      "metadata": {
        "id": "pCx2Ep4dp0Qy"
      }
    },
    {
      "cell_type": "code",
      "metadata": {
        "colab": {
          "base_uri": "https://localhost:8080/"
        },
        "id": "P4WZCpJR8elT",
        "outputId": "5e80fa2d-ff2b-4d9b-cca2-23c6be00a460"
      },
      "source": [
        "data = [[30, 40],\n",
        "         [12, 18]]\n",
        "\n",
        "from statsmodels.stats.contingency_tables import mcnemar\n",
        "\n",
        "print(mcnemar(data, exact=False))\n",
        "print(mcnemar(data, exact=False, correction=False))\n",
        "\n",
        "# exact : True - binomial distribution , False - Chi-Square distribution\n",
        "# correction :  If true, a continuity correction is used. As a rule of thumb, \n",
        "#               this correction is typically applied when any of the cell counts in the table are less than 5."
      ],
      "execution_count": null,
      "outputs": [
        {
          "output_type": "execute_result",
          "data": {
            "text/plain": [
              "DecisionTreeClassifier(criterion='entropy', random_state=2022)"
            ]
          },
          "metadata": {},
          "execution_count": 34
        }
      ]
    },
    {
      "cell_type": "markdown",
      "source": [
        "프리드먼 검정과 네메니 사후 검정(Friedman Test & Nemenyi Post-Hoc Test)"
      ],
      "metadata": {
        "id": "2ALmtpVNp_gK"
      }
    },
    {
      "cell_type": "code",
      "metadata": {
        "id": "u-48eLi-9FV5"
      },
      "source": [
        "group1 = [4, 6, 3, 4, 3, 2, 2, 7, 6, 5]\n",
        "group2 = [5, 6, 8, 7, 7, 8, 4, 6, 4, 5]\n",
        "group3 = [2, 4, 4, 3, 2, 2, 1, 4, 3, 2]\n",
        "\n",
        "from scipy import stats\n",
        "stats.friedmanchisquare(group1, group2, group3)\n",
        "\n",
        "# H0 : The mean for each population is equal.\n",
        "# Ha : At least one population mean is different from the rest.\n",
        "\n",
        "import scikit_posthocs as sp\n",
        "import numpy as np\n",
        "\n",
        "data = np.array([group1, group2, group3])\n",
        "sp.posthoc_nemenyi_friedman(data.T) #전치행렬 사용\n",
        "\n",
        "# At α = .05, the only two groups that have statistically significantly different means are group 1 and group 2."
      ],
      "execution_count": null,
      "outputs": []
    },
    {
      "cell_type": "code",
      "source": [
        ""
      ],
      "metadata": {
        "id": "wtreQthpmIag"
      },
      "execution_count": null,
      "outputs": []
    }
  ]
}