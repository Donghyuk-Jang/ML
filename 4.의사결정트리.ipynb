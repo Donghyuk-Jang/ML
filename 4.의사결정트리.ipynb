{
  "nbformat": 4,
  "nbformat_minor": 0,
  "metadata": {
    "colab": {
      "name": "의사결정트리.ipynb",
      "provenance": [],
      "collapsed_sections": [],
      "authorship_tag": "ABX9TyO/iriLHdvmiK+JXJoVFzPm",
      "include_colab_link": true
    },
    "kernelspec": {
      "name": "python3",
      "display_name": "Python 3"
    },
    "language_info": {
      "name": "python"
    }
  },
  "cells": [
    {
      "cell_type": "markdown",
      "metadata": {
        "id": "view-in-github",
        "colab_type": "text"
      },
      "source": [
        "<a href=\"https://colab.research.google.com/github/Donghyuk-Jang/ML/blob/main/4.%EC%9D%98%EC%82%AC%EA%B2%B0%EC%A0%95%ED%8A%B8%EB%A6%AC.ipynb\" target=\"_parent\"><img src=\"https://colab.research.google.com/assets/colab-badge.svg\" alt=\"Open In Colab\"/></a>"
      ]
    },
    {
      "cell_type": "code",
      "metadata": {
        "colab": {
          "base_uri": "https://localhost:8080/"
        },
        "id": "ztb-vj3n4WQB",
        "outputId": "03cd9a21-bfdb-440a-f02a-2bbd63b82802"
      },
      "source": [
        "# 구글 마운트\n",
        "from google.colab import drive\n",
        "drive.mount('/content/drive')"
      ],
      "execution_count": null,
      "outputs": [
        {
          "output_type": "stream",
          "name": "stdout",
          "text": [
            "Mounted at /content/drive\n"
          ]
        }
      ]
    },
    {
      "cell_type": "code",
      "metadata": {
        "id": "B0lEKpmn4XD5"
      },
      "source": [
        "import pandas as pd\n",
        "import numpy as np \n",
        "import matplotlib.pyplot as plt\n",
        "import seaborn as sns\n",
        "%matplotlib inline\n",
        "\n",
        "from sklearn.tree import DecisionTreeClassifier\n",
        "from sklearn.datasets import load_iris\n",
        "from sklearn.model_selection import train_test_split\n",
        "import warnings\n",
        "warnings.filterwarnings('ignore')\n"
      ],
      "execution_count": null,
      "outputs": []
    },
    {
      "cell_type": "code",
      "source": [
        "# 데이터 로딩 및 확인 \n",
        "iris_data = load_iris()\n",
        "print(iris_data['data'][:3])\n",
        "print(iris_data['target'][:3])"
      ],
      "metadata": {
        "colab": {
          "base_uri": "https://localhost:8080/"
        },
        "id": "Esc6Hv0Cafpa",
        "outputId": "d2846664-a484-43d2-f34d-3987a36a47dd"
      },
      "execution_count": null,
      "outputs": [
        {
          "output_type": "stream",
          "name": "stdout",
          "text": [
            "[[5.1 3.5 1.4 0.2]\n",
            " [4.9 3.  1.4 0.2]\n",
            " [4.7 3.2 1.3 0.2]]\n",
            "[0 0 0]\n"
          ]
        }
      ]
    },
    {
      "cell_type": "code",
      "metadata": {
        "id": "iZhyr3IM47ya"
      },
      "source": [
        "# 의사결정나무 모델 생성\n",
        "dt_clf_gini = DecisionTreeClassifier(random_state=2022,criterion='gini')\n",
        "dt_clf_entropy = DecisionTreeClassifier(random_state=2022,criterion='entropy')"
      ],
      "execution_count": null,
      "outputs": []
    },
    {
      "cell_type": "code",
      "metadata": {
        "id": "XThH4fG75C5Z"
      },
      "source": [
        "# 학습, 테스트 데이터 분리\n",
        "X_train,X_test,y_train,y_test = train_test_split(iris_data.data, iris_data.target, test_size=0.2, random_state=2022)"
      ],
      "execution_count": null,
      "outputs": []
    },
    {
      "cell_type": "code",
      "metadata": {
        "colab": {
          "base_uri": "https://localhost:8080/"
        },
        "id": "P4WZCpJR8elT",
        "outputId": "5e80fa2d-ff2b-4d9b-cca2-23c6be00a460"
      },
      "source": [
        "# 의사결정나무 학습 \n",
        "dt_clf_gini.fit(X_train,y_train)\n",
        "dt_clf_entropy.fit(X_train,y_train)"
      ],
      "execution_count": null,
      "outputs": [
        {
          "output_type": "execute_result",
          "data": {
            "text/plain": [
              "DecisionTreeClassifier(criterion='entropy', random_state=2022)"
            ]
          },
          "metadata": {},
          "execution_count": 34
        }
      ]
    },
    {
      "cell_type": "code",
      "metadata": {
        "id": "u-48eLi-9FV5"
      },
      "source": [
        "from sklearn.tree import export_graphviz\n",
        "\n",
        "export_graphviz(dt_clf_gini, out_file='tree.dot', class_names=iris_data.target_names, feature_names=iris_data.feature_names, impurity=True, filled=True)"
      ],
      "execution_count": null,
      "outputs": []
    },
    {
      "cell_type": "code",
      "metadata": {
        "colab": {
          "base_uri": "https://localhost:8080/",
          "height": 1000
        },
        "id": "DDPzxdcyEIkA",
        "outputId": "36ed2c7d-c225-487c-82e6-8a9e39c11a13"
      },
      "source": [
        "import graphviz\n",
        "with open('tree.dot') as f:\n",
        "  dot_graph = f.read()\n",
        "graphviz.Source(dot_graph)"
      ],
      "execution_count": null,
      "outputs": [
        {
          "output_type": "execute_result",
          "data": {
            "text/plain": [
              "<graphviz.files.Source at 0x7f88aed60e50>"
            ],
            "image/svg+xml": "<?xml version=\"1.0\" encoding=\"UTF-8\" standalone=\"no\"?>\n<!DOCTYPE svg PUBLIC \"-//W3C//DTD SVG 1.1//EN\"\n \"http://www.w3.org/Graphics/SVG/1.1/DTD/svg11.dtd\">\n<!-- Generated by graphviz version 2.40.1 (20161225.0304)\n -->\n<!-- Title: Tree Pages: 1 -->\n<svg width=\"955pt\" height=\"790pt\"\n viewBox=\"0.00 0.00 954.50 790.00\" xmlns=\"http://www.w3.org/2000/svg\" xmlns:xlink=\"http://www.w3.org/1999/xlink\">\n<g id=\"graph0\" class=\"graph\" transform=\"scale(1 1) rotate(0) translate(4 786)\">\n<title>Tree</title>\n<polygon fill=\"#ffffff\" stroke=\"transparent\" points=\"-4,4 -4,-786 950.5,-786 950.5,4 -4,4\"/>\n<!-- 0 -->\n<g id=\"node1\" class=\"node\">\n<title>0</title>\n<polygon fill=\"#fcfffd\" stroke=\"#000000\" points=\"626,-782 456,-782 456,-699 626,-699 626,-782\"/>\n<text text-anchor=\"middle\" x=\"541\" y=\"-766.8\" font-family=\"Helvetica,sans-Serif\" font-size=\"14.00\" fill=\"#000000\">petal width (cm) &lt;= 0.75</text>\n<text text-anchor=\"middle\" x=\"541\" y=\"-751.8\" font-family=\"Helvetica,sans-Serif\" font-size=\"14.00\" fill=\"#000000\">gini = 0.666</text>\n<text text-anchor=\"middle\" x=\"541\" y=\"-736.8\" font-family=\"Helvetica,sans-Serif\" font-size=\"14.00\" fill=\"#000000\">samples = 120</text>\n<text text-anchor=\"middle\" x=\"541\" y=\"-721.8\" font-family=\"Helvetica,sans-Serif\" font-size=\"14.00\" fill=\"#000000\">value = [41, 42, 37]</text>\n<text text-anchor=\"middle\" x=\"541\" y=\"-706.8\" font-family=\"Helvetica,sans-Serif\" font-size=\"14.00\" fill=\"#000000\">class = versicolor</text>\n</g>\n<!-- 1 -->\n<g id=\"node2\" class=\"node\">\n<title>1</title>\n<polygon fill=\"#e58139\" stroke=\"#000000\" points=\"520.5,-655.5 397.5,-655.5 397.5,-587.5 520.5,-587.5 520.5,-655.5\"/>\n<text text-anchor=\"middle\" x=\"459\" y=\"-640.3\" font-family=\"Helvetica,sans-Serif\" font-size=\"14.00\" fill=\"#000000\">gini = 0.0</text>\n<text text-anchor=\"middle\" x=\"459\" y=\"-625.3\" font-family=\"Helvetica,sans-Serif\" font-size=\"14.00\" fill=\"#000000\">samples = 41</text>\n<text text-anchor=\"middle\" x=\"459\" y=\"-610.3\" font-family=\"Helvetica,sans-Serif\" font-size=\"14.00\" fill=\"#000000\">value = [41, 0, 0]</text>\n<text text-anchor=\"middle\" x=\"459\" y=\"-595.3\" font-family=\"Helvetica,sans-Serif\" font-size=\"14.00\" fill=\"#000000\">class = setosa</text>\n</g>\n<!-- 0&#45;&gt;1 -->\n<g id=\"edge1\" class=\"edge\">\n<title>0&#45;&gt;1</title>\n<path fill=\"none\" stroke=\"#000000\" d=\"M512.3204,-698.8796C504.5917,-687.6636 496.2191,-675.5131 488.4492,-664.2372\"/>\n<polygon fill=\"#000000\" stroke=\"#000000\" points=\"491.2018,-662.0634 482.6456,-655.8149 485.4377,-666.0353 491.2018,-662.0634\"/>\n<text text-anchor=\"middle\" x=\"478.1196\" y=\"-676.7018\" font-family=\"Helvetica,sans-Serif\" font-size=\"14.00\" fill=\"#000000\">True</text>\n</g>\n<!-- 2 -->\n<g id=\"node3\" class=\"node\">\n<title>2</title>\n<polygon fill=\"#e7fcf0\" stroke=\"#000000\" points=\"709,-663 539,-663 539,-580 709,-580 709,-663\"/>\n<text text-anchor=\"middle\" x=\"624\" y=\"-647.8\" font-family=\"Helvetica,sans-Serif\" font-size=\"14.00\" fill=\"#000000\">petal width (cm) &lt;= 1.75</text>\n<text text-anchor=\"middle\" x=\"624\" y=\"-632.8\" font-family=\"Helvetica,sans-Serif\" font-size=\"14.00\" fill=\"#000000\">gini = 0.498</text>\n<text text-anchor=\"middle\" x=\"624\" y=\"-617.8\" font-family=\"Helvetica,sans-Serif\" font-size=\"14.00\" fill=\"#000000\">samples = 79</text>\n<text text-anchor=\"middle\" x=\"624\" y=\"-602.8\" font-family=\"Helvetica,sans-Serif\" font-size=\"14.00\" fill=\"#000000\">value = [0, 42, 37]</text>\n<text text-anchor=\"middle\" x=\"624\" y=\"-587.8\" font-family=\"Helvetica,sans-Serif\" font-size=\"14.00\" fill=\"#000000\">class = versicolor</text>\n</g>\n<!-- 0&#45;&gt;2 -->\n<g id=\"edge2\" class=\"edge\">\n<title>0&#45;&gt;2</title>\n<path fill=\"none\" stroke=\"#000000\" d=\"M570.0294,-698.8796C576.1855,-690.0534 582.7451,-680.6485 589.0936,-671.5466\"/>\n<polygon fill=\"#000000\" stroke=\"#000000\" points=\"591.9967,-673.5024 594.8467,-663.2981 586.2552,-669.4978 591.9967,-673.5024\"/>\n<text text-anchor=\"middle\" x=\"599.2331\" y=\"-684.2103\" font-family=\"Helvetica,sans-Serif\" font-size=\"14.00\" fill=\"#000000\">False</text>\n</g>\n<!-- 3 -->\n<g id=\"node4\" class=\"node\">\n<title>3</title>\n<polygon fill=\"#47e78a\" stroke=\"#000000\" points=\"615,-544 439,-544 439,-461 615,-461 615,-544\"/>\n<text text-anchor=\"middle\" x=\"527\" y=\"-528.8\" font-family=\"Helvetica,sans-Serif\" font-size=\"14.00\" fill=\"#000000\">petal length (cm) &lt;= 5.35</text>\n<text text-anchor=\"middle\" x=\"527\" y=\"-513.8\" font-family=\"Helvetica,sans-Serif\" font-size=\"14.00\" fill=\"#000000\">gini = 0.127</text>\n<text text-anchor=\"middle\" x=\"527\" y=\"-498.8\" font-family=\"Helvetica,sans-Serif\" font-size=\"14.00\" fill=\"#000000\">samples = 44</text>\n<text text-anchor=\"middle\" x=\"527\" y=\"-483.8\" font-family=\"Helvetica,sans-Serif\" font-size=\"14.00\" fill=\"#000000\">value = [0, 41, 3]</text>\n<text text-anchor=\"middle\" x=\"527\" y=\"-468.8\" font-family=\"Helvetica,sans-Serif\" font-size=\"14.00\" fill=\"#000000\">class = versicolor</text>\n</g>\n<!-- 2&#45;&gt;3 -->\n<g id=\"edge3\" class=\"edge\">\n<title>2&#45;&gt;3</title>\n<path fill=\"none\" stroke=\"#000000\" d=\"M590.0741,-579.8796C582.8062,-570.9633 575.057,-561.4565 567.5672,-552.268\"/>\n<polygon fill=\"#000000\" stroke=\"#000000\" points=\"570.1018,-549.8379 561.0707,-544.2981 564.676,-554.2606 570.1018,-549.8379\"/>\n</g>\n<!-- 14 -->\n<g id=\"node15\" class=\"node\">\n<title>14</title>\n<polygon fill=\"#853fe6\" stroke=\"#000000\" points=\"809,-544 633,-544 633,-461 809,-461 809,-544\"/>\n<text text-anchor=\"middle\" x=\"721\" y=\"-528.8\" font-family=\"Helvetica,sans-Serif\" font-size=\"14.00\" fill=\"#000000\">petal length (cm) &lt;= 4.85</text>\n<text text-anchor=\"middle\" x=\"721\" y=\"-513.8\" font-family=\"Helvetica,sans-Serif\" font-size=\"14.00\" fill=\"#000000\">gini = 0.056</text>\n<text text-anchor=\"middle\" x=\"721\" y=\"-498.8\" font-family=\"Helvetica,sans-Serif\" font-size=\"14.00\" fill=\"#000000\">samples = 35</text>\n<text text-anchor=\"middle\" x=\"721\" y=\"-483.8\" font-family=\"Helvetica,sans-Serif\" font-size=\"14.00\" fill=\"#000000\">value = [0, 1, 34]</text>\n<text text-anchor=\"middle\" x=\"721\" y=\"-468.8\" font-family=\"Helvetica,sans-Serif\" font-size=\"14.00\" fill=\"#000000\">class = virginica</text>\n</g>\n<!-- 2&#45;&gt;14 -->\n<g id=\"edge14\" class=\"edge\">\n<title>2&#45;&gt;14</title>\n<path fill=\"none\" stroke=\"#000000\" d=\"M657.9259,-579.8796C665.1938,-570.9633 672.943,-561.4565 680.4328,-552.268\"/>\n<polygon fill=\"#000000\" stroke=\"#000000\" points=\"683.324,-554.2606 686.9293,-544.2981 677.8982,-549.8379 683.324,-554.2606\"/>\n</g>\n<!-- 4 -->\n<g id=\"node5\" class=\"node\">\n<title>4</title>\n<polygon fill=\"#43e687\" stroke=\"#000000\" points=\"456,-425 286,-425 286,-342 456,-342 456,-425\"/>\n<text text-anchor=\"middle\" x=\"371\" y=\"-409.8\" font-family=\"Helvetica,sans-Serif\" font-size=\"14.00\" fill=\"#000000\">petal width (cm) &lt;= 1.65</text>\n<text text-anchor=\"middle\" x=\"371\" y=\"-394.8\" font-family=\"Helvetica,sans-Serif\" font-size=\"14.00\" fill=\"#000000\">gini = 0.089</text>\n<text text-anchor=\"middle\" x=\"371\" y=\"-379.8\" font-family=\"Helvetica,sans-Serif\" font-size=\"14.00\" fill=\"#000000\">samples = 43</text>\n<text text-anchor=\"middle\" x=\"371\" y=\"-364.8\" font-family=\"Helvetica,sans-Serif\" font-size=\"14.00\" fill=\"#000000\">value = [0, 41, 2]</text>\n<text text-anchor=\"middle\" x=\"371\" y=\"-349.8\" font-family=\"Helvetica,sans-Serif\" font-size=\"14.00\" fill=\"#000000\">class = versicolor</text>\n</g>\n<!-- 3&#45;&gt;4 -->\n<g id=\"edge4\" class=\"edge\">\n<title>3&#45;&gt;4</title>\n<path fill=\"none\" stroke=\"#000000\" d=\"M472.4388,-460.8796C459.9698,-451.368 446.6198,-441.1843 433.8352,-431.432\"/>\n<polygon fill=\"#000000\" stroke=\"#000000\" points=\"435.604,-428.3792 425.5304,-425.0969 431.3585,-433.9448 435.604,-428.3792\"/>\n</g>\n<!-- 13 -->\n<g id=\"node14\" class=\"node\">\n<title>13</title>\n<polygon fill=\"#8139e5\" stroke=\"#000000\" points=\"593.5,-417.5 474.5,-417.5 474.5,-349.5 593.5,-349.5 593.5,-417.5\"/>\n<text text-anchor=\"middle\" x=\"534\" y=\"-402.3\" font-family=\"Helvetica,sans-Serif\" font-size=\"14.00\" fill=\"#000000\">gini = 0.0</text>\n<text text-anchor=\"middle\" x=\"534\" y=\"-387.3\" font-family=\"Helvetica,sans-Serif\" font-size=\"14.00\" fill=\"#000000\">samples = 1</text>\n<text text-anchor=\"middle\" x=\"534\" y=\"-372.3\" font-family=\"Helvetica,sans-Serif\" font-size=\"14.00\" fill=\"#000000\">value = [0, 0, 1]</text>\n<text text-anchor=\"middle\" x=\"534\" y=\"-357.3\" font-family=\"Helvetica,sans-Serif\" font-size=\"14.00\" fill=\"#000000\">class = virginica</text>\n</g>\n<!-- 3&#45;&gt;13 -->\n<g id=\"edge13\" class=\"edge\">\n<title>3&#45;&gt;13</title>\n<path fill=\"none\" stroke=\"#000000\" d=\"M529.4483,-460.8796C530.0757,-450.2134 530.7528,-438.7021 531.3881,-427.9015\"/>\n<polygon fill=\"#000000\" stroke=\"#000000\" points=\"534.8881,-428.0032 531.9815,-417.8149 527.9002,-427.5921 534.8881,-428.0032\"/>\n</g>\n<!-- 5 -->\n<g id=\"node6\" class=\"node\">\n<title>5</title>\n<polygon fill=\"#3ee684\" stroke=\"#000000\" points=\"311,-306 135,-306 135,-223 311,-223 311,-306\"/>\n<text text-anchor=\"middle\" x=\"223\" y=\"-290.8\" font-family=\"Helvetica,sans-Serif\" font-size=\"14.00\" fill=\"#000000\">petal length (cm) &lt;= 4.95</text>\n<text text-anchor=\"middle\" x=\"223\" y=\"-275.8\" font-family=\"Helvetica,sans-Serif\" font-size=\"14.00\" fill=\"#000000\">gini = 0.048</text>\n<text text-anchor=\"middle\" x=\"223\" y=\"-260.8\" font-family=\"Helvetica,sans-Serif\" font-size=\"14.00\" fill=\"#000000\">samples = 41</text>\n<text text-anchor=\"middle\" x=\"223\" y=\"-245.8\" font-family=\"Helvetica,sans-Serif\" font-size=\"14.00\" fill=\"#000000\">value = [0, 40, 1]</text>\n<text text-anchor=\"middle\" x=\"223\" y=\"-230.8\" font-family=\"Helvetica,sans-Serif\" font-size=\"14.00\" fill=\"#000000\">class = versicolor</text>\n</g>\n<!-- 4&#45;&gt;5 -->\n<g id=\"edge5\" class=\"edge\">\n<title>4&#45;&gt;5</title>\n<path fill=\"none\" stroke=\"#000000\" d=\"M319.2368,-341.8796C307.4072,-332.368 294.7419,-322.1843 282.6129,-312.432\"/>\n<polygon fill=\"#000000\" stroke=\"#000000\" points=\"284.7204,-309.6355 274.734,-306.0969 280.3341,-315.0908 284.7204,-309.6355\"/>\n</g>\n<!-- 10 -->\n<g id=\"node11\" class=\"node\">\n<title>10</title>\n<polygon fill=\"#ffffff\" stroke=\"#000000\" points=\"501,-306 329,-306 329,-223 501,-223 501,-306\"/>\n<text text-anchor=\"middle\" x=\"415\" y=\"-290.8\" font-family=\"Helvetica,sans-Serif\" font-size=\"14.00\" fill=\"#000000\">sepal length (cm) &lt;= 5.8</text>\n<text text-anchor=\"middle\" x=\"415\" y=\"-275.8\" font-family=\"Helvetica,sans-Serif\" font-size=\"14.00\" fill=\"#000000\">gini = 0.5</text>\n<text text-anchor=\"middle\" x=\"415\" y=\"-260.8\" font-family=\"Helvetica,sans-Serif\" font-size=\"14.00\" fill=\"#000000\">samples = 2</text>\n<text text-anchor=\"middle\" x=\"415\" y=\"-245.8\" font-family=\"Helvetica,sans-Serif\" font-size=\"14.00\" fill=\"#000000\">value = [0, 1, 1]</text>\n<text text-anchor=\"middle\" x=\"415\" y=\"-230.8\" font-family=\"Helvetica,sans-Serif\" font-size=\"14.00\" fill=\"#000000\">class = versicolor</text>\n</g>\n<!-- 4&#45;&gt;10 -->\n<g id=\"edge10\" class=\"edge\">\n<title>4&#45;&gt;10</title>\n<path fill=\"none\" stroke=\"#000000\" d=\"M386.3891,-341.8796C389.486,-333.5037 392.7757,-324.6067 395.9794,-315.942\"/>\n<polygon fill=\"#000000\" stroke=\"#000000\" points=\"399.36,-316.8913 399.5453,-306.2981 392.7944,-314.4636 399.36,-316.8913\"/>\n</g>\n<!-- 6 -->\n<g id=\"node7\" class=\"node\">\n<title>6</title>\n<polygon fill=\"#39e581\" stroke=\"#000000\" points=\"128,-179.5 0,-179.5 0,-111.5 128,-111.5 128,-179.5\"/>\n<text text-anchor=\"middle\" x=\"64\" y=\"-164.3\" font-family=\"Helvetica,sans-Serif\" font-size=\"14.00\" fill=\"#000000\">gini = 0.0</text>\n<text text-anchor=\"middle\" x=\"64\" y=\"-149.3\" font-family=\"Helvetica,sans-Serif\" font-size=\"14.00\" fill=\"#000000\">samples = 39</text>\n<text text-anchor=\"middle\" x=\"64\" y=\"-134.3\" font-family=\"Helvetica,sans-Serif\" font-size=\"14.00\" fill=\"#000000\">value = [0, 39, 0]</text>\n<text text-anchor=\"middle\" x=\"64\" y=\"-119.3\" font-family=\"Helvetica,sans-Serif\" font-size=\"14.00\" fill=\"#000000\">class = versicolor</text>\n</g>\n<!-- 5&#45;&gt;6 -->\n<g id=\"edge6\" class=\"edge\">\n<title>5&#45;&gt;6</title>\n<path fill=\"none\" stroke=\"#000000\" d=\"M167.3895,-222.8796C151.2987,-210.8368 133.7685,-197.7167 117.7909,-185.7586\"/>\n<polygon fill=\"#000000\" stroke=\"#000000\" points=\"119.6962,-182.8129 109.593,-179.623 115.5018,-188.4171 119.6962,-182.8129\"/>\n</g>\n<!-- 7 -->\n<g id=\"node8\" class=\"node\">\n<title>7</title>\n<polygon fill=\"#ffffff\" stroke=\"#000000\" points=\"316,-187 146,-187 146,-104 316,-104 316,-187\"/>\n<text text-anchor=\"middle\" x=\"231\" y=\"-171.8\" font-family=\"Helvetica,sans-Serif\" font-size=\"14.00\" fill=\"#000000\">petal width (cm) &lt;= 1.55</text>\n<text text-anchor=\"middle\" x=\"231\" y=\"-156.8\" font-family=\"Helvetica,sans-Serif\" font-size=\"14.00\" fill=\"#000000\">gini = 0.5</text>\n<text text-anchor=\"middle\" x=\"231\" y=\"-141.8\" font-family=\"Helvetica,sans-Serif\" font-size=\"14.00\" fill=\"#000000\">samples = 2</text>\n<text text-anchor=\"middle\" x=\"231\" y=\"-126.8\" font-family=\"Helvetica,sans-Serif\" font-size=\"14.00\" fill=\"#000000\">value = [0, 1, 1]</text>\n<text text-anchor=\"middle\" x=\"231\" y=\"-111.8\" font-family=\"Helvetica,sans-Serif\" font-size=\"14.00\" fill=\"#000000\">class = versicolor</text>\n</g>\n<!-- 5&#45;&gt;7 -->\n<g id=\"edge7\" class=\"edge\">\n<title>5&#45;&gt;7</title>\n<path fill=\"none\" stroke=\"#000000\" d=\"M225.798,-222.8796C226.349,-214.6838 226.9335,-205.9891 227.5041,-197.5013\"/>\n<polygon fill=\"#000000\" stroke=\"#000000\" points=\"231.0113,-197.5103 228.19,-187.2981 224.0271,-197.0408 231.0113,-197.5103\"/>\n</g>\n<!-- 8 -->\n<g id=\"node9\" class=\"node\">\n<title>8</title>\n<polygon fill=\"#8139e5\" stroke=\"#000000\" points=\"219.5,-68 100.5,-68 100.5,0 219.5,0 219.5,-68\"/>\n<text text-anchor=\"middle\" x=\"160\" y=\"-52.8\" font-family=\"Helvetica,sans-Serif\" font-size=\"14.00\" fill=\"#000000\">gini = 0.0</text>\n<text text-anchor=\"middle\" x=\"160\" y=\"-37.8\" font-family=\"Helvetica,sans-Serif\" font-size=\"14.00\" fill=\"#000000\">samples = 1</text>\n<text text-anchor=\"middle\" x=\"160\" y=\"-22.8\" font-family=\"Helvetica,sans-Serif\" font-size=\"14.00\" fill=\"#000000\">value = [0, 0, 1]</text>\n<text text-anchor=\"middle\" x=\"160\" y=\"-7.8\" font-family=\"Helvetica,sans-Serif\" font-size=\"14.00\" fill=\"#000000\">class = virginica</text>\n</g>\n<!-- 7&#45;&gt;8 -->\n<g id=\"edge8\" class=\"edge\">\n<title>7&#45;&gt;8</title>\n<path fill=\"none\" stroke=\"#000000\" d=\"M204.5622,-103.9815C198.944,-95.1585 193.0012,-85.8258 187.3497,-76.9506\"/>\n<polygon fill=\"#000000\" stroke=\"#000000\" points=\"190.1416,-74.8188 181.8181,-68.2637 184.2371,-78.5787 190.1416,-74.8188\"/>\n</g>\n<!-- 9 -->\n<g id=\"node10\" class=\"node\">\n<title>9</title>\n<polygon fill=\"#39e581\" stroke=\"#000000\" points=\"366,-68 238,-68 238,0 366,0 366,-68\"/>\n<text text-anchor=\"middle\" x=\"302\" y=\"-52.8\" font-family=\"Helvetica,sans-Serif\" font-size=\"14.00\" fill=\"#000000\">gini = 0.0</text>\n<text text-anchor=\"middle\" x=\"302\" y=\"-37.8\" font-family=\"Helvetica,sans-Serif\" font-size=\"14.00\" fill=\"#000000\">samples = 1</text>\n<text text-anchor=\"middle\" x=\"302\" y=\"-22.8\" font-family=\"Helvetica,sans-Serif\" font-size=\"14.00\" fill=\"#000000\">value = [0, 1, 0]</text>\n<text text-anchor=\"middle\" x=\"302\" y=\"-7.8\" font-family=\"Helvetica,sans-Serif\" font-size=\"14.00\" fill=\"#000000\">class = versicolor</text>\n</g>\n<!-- 7&#45;&gt;9 -->\n<g id=\"edge9\" class=\"edge\">\n<title>7&#45;&gt;9</title>\n<path fill=\"none\" stroke=\"#000000\" d=\"M257.4378,-103.9815C263.056,-95.1585 268.9988,-85.8258 274.6503,-76.9506\"/>\n<polygon fill=\"#000000\" stroke=\"#000000\" points=\"277.7629,-78.5787 280.1819,-68.2637 271.8584,-74.8188 277.7629,-78.5787\"/>\n</g>\n<!-- 11 -->\n<g id=\"node12\" class=\"node\">\n<title>11</title>\n<polygon fill=\"#8139e5\" stroke=\"#000000\" points=\"467.5,-179.5 348.5,-179.5 348.5,-111.5 467.5,-111.5 467.5,-179.5\"/>\n<text text-anchor=\"middle\" x=\"408\" y=\"-164.3\" font-family=\"Helvetica,sans-Serif\" font-size=\"14.00\" fill=\"#000000\">gini = 0.0</text>\n<text text-anchor=\"middle\" x=\"408\" y=\"-149.3\" font-family=\"Helvetica,sans-Serif\" font-size=\"14.00\" fill=\"#000000\">samples = 1</text>\n<text text-anchor=\"middle\" x=\"408\" y=\"-134.3\" font-family=\"Helvetica,sans-Serif\" font-size=\"14.00\" fill=\"#000000\">value = [0, 0, 1]</text>\n<text text-anchor=\"middle\" x=\"408\" y=\"-119.3\" font-family=\"Helvetica,sans-Serif\" font-size=\"14.00\" fill=\"#000000\">class = virginica</text>\n</g>\n<!-- 10&#45;&gt;11 -->\n<g id=\"edge11\" class=\"edge\">\n<title>10&#45;&gt;11</title>\n<path fill=\"none\" stroke=\"#000000\" d=\"M412.5517,-222.8796C411.9243,-212.2134 411.2472,-200.7021 410.6119,-189.9015\"/>\n<polygon fill=\"#000000\" stroke=\"#000000\" points=\"414.0998,-189.5921 410.0185,-179.8149 407.1119,-190.0032 414.0998,-189.5921\"/>\n</g>\n<!-- 12 -->\n<g id=\"node13\" class=\"node\">\n<title>12</title>\n<polygon fill=\"#39e581\" stroke=\"#000000\" points=\"614,-179.5 486,-179.5 486,-111.5 614,-111.5 614,-179.5\"/>\n<text text-anchor=\"middle\" x=\"550\" y=\"-164.3\" font-family=\"Helvetica,sans-Serif\" font-size=\"14.00\" fill=\"#000000\">gini = 0.0</text>\n<text text-anchor=\"middle\" x=\"550\" y=\"-149.3\" font-family=\"Helvetica,sans-Serif\" font-size=\"14.00\" fill=\"#000000\">samples = 1</text>\n<text text-anchor=\"middle\" x=\"550\" y=\"-134.3\" font-family=\"Helvetica,sans-Serif\" font-size=\"14.00\" fill=\"#000000\">value = [0, 1, 0]</text>\n<text text-anchor=\"middle\" x=\"550\" y=\"-119.3\" font-family=\"Helvetica,sans-Serif\" font-size=\"14.00\" fill=\"#000000\">class = versicolor</text>\n</g>\n<!-- 10&#45;&gt;12 -->\n<g id=\"edge12\" class=\"edge\">\n<title>10&#45;&gt;12</title>\n<path fill=\"none\" stroke=\"#000000\" d=\"M462.2164,-222.8796C475.5642,-211.1138 490.0785,-198.3197 503.3904,-186.5855\"/>\n<polygon fill=\"#000000\" stroke=\"#000000\" points=\"505.884,-189.0531 511.0713,-179.8149 501.2552,-183.8019 505.884,-189.0531\"/>\n</g>\n<!-- 15 -->\n<g id=\"node16\" class=\"node\">\n<title>15</title>\n<polygon fill=\"#c09cf2\" stroke=\"#000000\" points=\"805,-425 625,-425 625,-342 805,-342 805,-425\"/>\n<text text-anchor=\"middle\" x=\"715\" y=\"-409.8\" font-family=\"Helvetica,sans-Serif\" font-size=\"14.00\" fill=\"#000000\">sepal length (cm) &lt;= 5.95</text>\n<text text-anchor=\"middle\" x=\"715\" y=\"-394.8\" font-family=\"Helvetica,sans-Serif\" font-size=\"14.00\" fill=\"#000000\">gini = 0.444</text>\n<text text-anchor=\"middle\" x=\"715\" y=\"-379.8\" font-family=\"Helvetica,sans-Serif\" font-size=\"14.00\" fill=\"#000000\">samples = 3</text>\n<text text-anchor=\"middle\" x=\"715\" y=\"-364.8\" font-family=\"Helvetica,sans-Serif\" font-size=\"14.00\" fill=\"#000000\">value = [0, 1, 2]</text>\n<text text-anchor=\"middle\" x=\"715\" y=\"-349.8\" font-family=\"Helvetica,sans-Serif\" font-size=\"14.00\" fill=\"#000000\">class = virginica</text>\n</g>\n<!-- 14&#45;&gt;15 -->\n<g id=\"edge15\" class=\"edge\">\n<title>14&#45;&gt;15</title>\n<path fill=\"none\" stroke=\"#000000\" d=\"M718.9015,-460.8796C718.4883,-452.6838 718.0499,-443.9891 717.6219,-435.5013\"/>\n<polygon fill=\"#000000\" stroke=\"#000000\" points=\"721.1067,-435.1091 717.1075,-425.2981 714.1156,-435.4617 721.1067,-435.1091\"/>\n</g>\n<!-- 18 -->\n<g id=\"node19\" class=\"node\">\n<title>18</title>\n<polygon fill=\"#8139e5\" stroke=\"#000000\" points=\"946.5,-417.5 823.5,-417.5 823.5,-349.5 946.5,-349.5 946.5,-417.5\"/>\n<text text-anchor=\"middle\" x=\"885\" y=\"-402.3\" font-family=\"Helvetica,sans-Serif\" font-size=\"14.00\" fill=\"#000000\">gini = 0.0</text>\n<text text-anchor=\"middle\" x=\"885\" y=\"-387.3\" font-family=\"Helvetica,sans-Serif\" font-size=\"14.00\" fill=\"#000000\">samples = 32</text>\n<text text-anchor=\"middle\" x=\"885\" y=\"-372.3\" font-family=\"Helvetica,sans-Serif\" font-size=\"14.00\" fill=\"#000000\">value = [0, 0, 32]</text>\n<text text-anchor=\"middle\" x=\"885\" y=\"-357.3\" font-family=\"Helvetica,sans-Serif\" font-size=\"14.00\" fill=\"#000000\">class = virginica</text>\n</g>\n<!-- 14&#45;&gt;18 -->\n<g id=\"edge18\" class=\"edge\">\n<title>14&#45;&gt;18</title>\n<path fill=\"none\" stroke=\"#000000\" d=\"M778.3592,-460.8796C794.9561,-448.8368 813.0375,-435.7167 829.5176,-423.7586\"/>\n<polygon fill=\"#000000\" stroke=\"#000000\" points=\"831.9351,-426.3288 837.9733,-417.623 827.824,-420.6632 831.9351,-426.3288\"/>\n</g>\n<!-- 16 -->\n<g id=\"node17\" class=\"node\">\n<title>16</title>\n<polygon fill=\"#39e581\" stroke=\"#000000\" points=\"735,-298.5 607,-298.5 607,-230.5 735,-230.5 735,-298.5\"/>\n<text text-anchor=\"middle\" x=\"671\" y=\"-283.3\" font-family=\"Helvetica,sans-Serif\" font-size=\"14.00\" fill=\"#000000\">gini = 0.0</text>\n<text text-anchor=\"middle\" x=\"671\" y=\"-268.3\" font-family=\"Helvetica,sans-Serif\" font-size=\"14.00\" fill=\"#000000\">samples = 1</text>\n<text text-anchor=\"middle\" x=\"671\" y=\"-253.3\" font-family=\"Helvetica,sans-Serif\" font-size=\"14.00\" fill=\"#000000\">value = [0, 1, 0]</text>\n<text text-anchor=\"middle\" x=\"671\" y=\"-238.3\" font-family=\"Helvetica,sans-Serif\" font-size=\"14.00\" fill=\"#000000\">class = versicolor</text>\n</g>\n<!-- 15&#45;&gt;16 -->\n<g id=\"edge16\" class=\"edge\">\n<title>15&#45;&gt;16</title>\n<path fill=\"none\" stroke=\"#000000\" d=\"M699.6109,-341.8796C695.5858,-330.9935 691.2352,-319.227 687.1707,-308.2344\"/>\n<polygon fill=\"#000000\" stroke=\"#000000\" points=\"690.4387,-306.9805 683.6879,-298.8149 683.8732,-309.4082 690.4387,-306.9805\"/>\n</g>\n<!-- 17 -->\n<g id=\"node18\" class=\"node\">\n<title>17</title>\n<polygon fill=\"#8139e5\" stroke=\"#000000\" points=\"872.5,-298.5 753.5,-298.5 753.5,-230.5 872.5,-230.5 872.5,-298.5\"/>\n<text text-anchor=\"middle\" x=\"813\" y=\"-283.3\" font-family=\"Helvetica,sans-Serif\" font-size=\"14.00\" fill=\"#000000\">gini = 0.0</text>\n<text text-anchor=\"middle\" x=\"813\" y=\"-268.3\" font-family=\"Helvetica,sans-Serif\" font-size=\"14.00\" fill=\"#000000\">samples = 2</text>\n<text text-anchor=\"middle\" x=\"813\" y=\"-253.3\" font-family=\"Helvetica,sans-Serif\" font-size=\"14.00\" fill=\"#000000\">value = [0, 0, 2]</text>\n<text text-anchor=\"middle\" x=\"813\" y=\"-238.3\" font-family=\"Helvetica,sans-Serif\" font-size=\"14.00\" fill=\"#000000\">class = virginica</text>\n</g>\n<!-- 15&#45;&gt;17 -->\n<g id=\"edge17\" class=\"edge\">\n<title>15&#45;&gt;17</title>\n<path fill=\"none\" stroke=\"#000000\" d=\"M749.2756,-341.8796C758.6935,-330.4436 768.9113,-318.0363 778.35,-306.575\"/>\n<polygon fill=\"#000000\" stroke=\"#000000\" points=\"781.0853,-308.7592 784.7406,-298.8149 775.6818,-304.3093 781.0853,-308.7592\"/>\n</g>\n</g>\n</svg>\n"
          },
          "metadata": {},
          "execution_count": 39
        }
      ]
    },
    {
      "cell_type": "code",
      "metadata": {
        "id": "cYpihasvElaU",
        "colab": {
          "base_uri": "https://localhost:8080/"
        },
        "outputId": "df701275-0feb-4338-d02c-e91b58174bd9"
      },
      "source": [
        "# 사전 가지치기\n",
        "from sklearn.model_selection import RandomizedSearchCV, GridSearchCV\n",
        "from sklearn.metrics import accuracy_score,confusion_matrix\n",
        "\n",
        "\n",
        "params = {'max_depth': [2,4,6,8,10,12],\n",
        "         'min_samples_split': [2,3,4],\n",
        "         'min_samples_leaf': [1,2]}\n",
        "\n",
        "# max_depth : 노드를 분할하기 위한 최소한의 샘플 데이터 수로 과적합 제어 용도로 사용\n",
        "# min_samples_split : leaf가 되기 위한 최소한의 샘플 데이터 수로 과적합 제어 용도로 사용\n",
        "# min_samples_leaf : 트리의 최대 깊이를 규정 \n",
        "\n",
        "gcv = GridSearchCV(estimator=dt_clf_entropy,param_grid=params)\n",
        "gcv.fit(X_train,y_train)"
      ],
      "execution_count": null,
      "outputs": [
        {
          "output_type": "execute_result",
          "data": {
            "text/plain": [
              "GridSearchCV(estimator=DecisionTreeClassifier(criterion='entropy',\n",
              "                                              random_state=2022),\n",
              "             param_grid={'max_depth': [2, 4, 6, 8, 10, 12],\n",
              "                         'min_samples_leaf': [1, 2],\n",
              "                         'min_samples_split': [2, 3, 4]})"
            ]
          },
          "metadata": {},
          "execution_count": 52
        }
      ]
    },
    {
      "cell_type": "code",
      "source": [
        "model = gcv.best_estimator_\n",
        "model.fit(X_train,y_train)\n",
        "y_train_pred = model.predict(X_train)\n",
        "y_test_pred = model.predict(X_test)\n",
        "\n",
        "print(f'Train score {accuracy_score(y_train_pred,y_train)}')\n",
        "print(f'Test score {accuracy_score(y_test_pred,y_test)}')"
      ],
      "metadata": {
        "colab": {
          "base_uri": "https://localhost:8080/"
        },
        "id": "Jx-Gupylj9Gp",
        "outputId": "8fc6e675-9cc0-4e62-ef1a-96e90701ebb2"
      },
      "execution_count": null,
      "outputs": [
        {
          "output_type": "stream",
          "name": "stdout",
          "text": [
            "Train score 0.9666666666666667\n",
            "Test score 0.9333333333333333\n"
          ]
        }
      ]
    },
    {
      "cell_type": "code",
      "source": [
        "plt.figure(figsize=(20,20))\n",
        "export_graphviz(model, out_file='tree.dot', class_names=iris_data.target_names, feature_names=iris_data.feature_names, impurity=True, filled=True)\n",
        "with open('tree.dot') as f:\n",
        "  dot_graph = f.read()\n",
        "graphviz.Source(dot_graph)"
      ],
      "metadata": {
        "colab": {
          "base_uri": "https://localhost:8080/",
          "height": 457
        },
        "id": "QxWvkeKBkAdS",
        "outputId": "ad98f5cf-b4c3-431d-994b-12aedfc45781"
      },
      "execution_count": null,
      "outputs": [
        {
          "output_type": "execute_result",
          "data": {
            "text/plain": [
              "<graphviz.files.Source at 0x7f88a44be190>"
            ],
            "image/svg+xml": "<?xml version=\"1.0\" encoding=\"UTF-8\" standalone=\"no\"?>\n<!DOCTYPE svg PUBLIC \"-//W3C//DTD SVG 1.1//EN\"\n \"http://www.w3.org/Graphics/SVG/1.1/DTD/svg11.dtd\">\n<!-- Generated by graphviz version 2.40.1 (20161225.0304)\n -->\n<!-- Title: Tree Pages: 1 -->\n<svg width=\"368pt\" height=\"314pt\"\n viewBox=\"0.00 0.00 368.00 314.00\" xmlns=\"http://www.w3.org/2000/svg\" xmlns:xlink=\"http://www.w3.org/1999/xlink\">\n<g id=\"graph0\" class=\"graph\" transform=\"scale(1 1) rotate(0) translate(4 310)\">\n<title>Tree</title>\n<polygon fill=\"#ffffff\" stroke=\"transparent\" points=\"-4,4 -4,-310 364,-310 364,4 -4,4\"/>\n<!-- 0 -->\n<g id=\"node1\" class=\"node\">\n<title>0</title>\n<polygon fill=\"#fcfffd\" stroke=\"#000000\" points=\"228.5,-306 58.5,-306 58.5,-223 228.5,-223 228.5,-306\"/>\n<text text-anchor=\"middle\" x=\"143.5\" y=\"-290.8\" font-family=\"Helvetica,sans-Serif\" font-size=\"14.00\" fill=\"#000000\">petal width (cm) &lt;= 0.75</text>\n<text text-anchor=\"middle\" x=\"143.5\" y=\"-275.8\" font-family=\"Helvetica,sans-Serif\" font-size=\"14.00\" fill=\"#000000\">entropy = 1.583</text>\n<text text-anchor=\"middle\" x=\"143.5\" y=\"-260.8\" font-family=\"Helvetica,sans-Serif\" font-size=\"14.00\" fill=\"#000000\">samples = 120</text>\n<text text-anchor=\"middle\" x=\"143.5\" y=\"-245.8\" font-family=\"Helvetica,sans-Serif\" font-size=\"14.00\" fill=\"#000000\">value = [41, 42, 37]</text>\n<text text-anchor=\"middle\" x=\"143.5\" y=\"-230.8\" font-family=\"Helvetica,sans-Serif\" font-size=\"14.00\" fill=\"#000000\">class = versicolor</text>\n</g>\n<!-- 1 -->\n<g id=\"node2\" class=\"node\">\n<title>1</title>\n<polygon fill=\"#e58139\" stroke=\"#000000\" points=\"123,-179.5 0,-179.5 0,-111.5 123,-111.5 123,-179.5\"/>\n<text text-anchor=\"middle\" x=\"61.5\" y=\"-164.3\" font-family=\"Helvetica,sans-Serif\" font-size=\"14.00\" fill=\"#000000\">entropy = 0.0</text>\n<text text-anchor=\"middle\" x=\"61.5\" y=\"-149.3\" font-family=\"Helvetica,sans-Serif\" font-size=\"14.00\" fill=\"#000000\">samples = 41</text>\n<text text-anchor=\"middle\" x=\"61.5\" y=\"-134.3\" font-family=\"Helvetica,sans-Serif\" font-size=\"14.00\" fill=\"#000000\">value = [41, 0, 0]</text>\n<text text-anchor=\"middle\" x=\"61.5\" y=\"-119.3\" font-family=\"Helvetica,sans-Serif\" font-size=\"14.00\" fill=\"#000000\">class = setosa</text>\n</g>\n<!-- 0&#45;&gt;1 -->\n<g id=\"edge1\" class=\"edge\">\n<title>0&#45;&gt;1</title>\n<path fill=\"none\" stroke=\"#000000\" d=\"M114.8204,-222.8796C107.0917,-211.6636 98.7191,-199.5131 90.9492,-188.2372\"/>\n<polygon fill=\"#000000\" stroke=\"#000000\" points=\"93.7018,-186.0634 85.1456,-179.8149 87.9377,-190.0353 93.7018,-186.0634\"/>\n<text text-anchor=\"middle\" x=\"80.6196\" y=\"-200.7018\" font-family=\"Helvetica,sans-Serif\" font-size=\"14.00\" fill=\"#000000\">True</text>\n</g>\n<!-- 2 -->\n<g id=\"node3\" class=\"node\">\n<title>2</title>\n<polygon fill=\"#e7fcf0\" stroke=\"#000000\" points=\"311.5,-187 141.5,-187 141.5,-104 311.5,-104 311.5,-187\"/>\n<text text-anchor=\"middle\" x=\"226.5\" y=\"-171.8\" font-family=\"Helvetica,sans-Serif\" font-size=\"14.00\" fill=\"#000000\">petal width (cm) &lt;= 1.75</text>\n<text text-anchor=\"middle\" x=\"226.5\" y=\"-156.8\" font-family=\"Helvetica,sans-Serif\" font-size=\"14.00\" fill=\"#000000\">entropy = 0.997</text>\n<text text-anchor=\"middle\" x=\"226.5\" y=\"-141.8\" font-family=\"Helvetica,sans-Serif\" font-size=\"14.00\" fill=\"#000000\">samples = 79</text>\n<text text-anchor=\"middle\" x=\"226.5\" y=\"-126.8\" font-family=\"Helvetica,sans-Serif\" font-size=\"14.00\" fill=\"#000000\">value = [0, 42, 37]</text>\n<text text-anchor=\"middle\" x=\"226.5\" y=\"-111.8\" font-family=\"Helvetica,sans-Serif\" font-size=\"14.00\" fill=\"#000000\">class = versicolor</text>\n</g>\n<!-- 0&#45;&gt;2 -->\n<g id=\"edge2\" class=\"edge\">\n<title>0&#45;&gt;2</title>\n<path fill=\"none\" stroke=\"#000000\" d=\"M172.5294,-222.8796C178.6855,-214.0534 185.2451,-204.6485 191.5936,-195.5466\"/>\n<polygon fill=\"#000000\" stroke=\"#000000\" points=\"194.4967,-197.5024 197.3467,-187.2981 188.7552,-193.4978 194.4967,-197.5024\"/>\n<text text-anchor=\"middle\" x=\"201.7331\" y=\"-208.2103\" font-family=\"Helvetica,sans-Serif\" font-size=\"14.00\" fill=\"#000000\">False</text>\n</g>\n<!-- 3 -->\n<g id=\"node4\" class=\"node\">\n<title>3</title>\n<polygon fill=\"#47e78a\" stroke=\"#000000\" points=\"218.5,-68 90.5,-68 90.5,0 218.5,0 218.5,-68\"/>\n<text text-anchor=\"middle\" x=\"154.5\" y=\"-52.8\" font-family=\"Helvetica,sans-Serif\" font-size=\"14.00\" fill=\"#000000\">entropy = 0.359</text>\n<text text-anchor=\"middle\" x=\"154.5\" y=\"-37.8\" font-family=\"Helvetica,sans-Serif\" font-size=\"14.00\" fill=\"#000000\">samples = 44</text>\n<text text-anchor=\"middle\" x=\"154.5\" y=\"-22.8\" font-family=\"Helvetica,sans-Serif\" font-size=\"14.00\" fill=\"#000000\">value = [0, 41, 3]</text>\n<text text-anchor=\"middle\" x=\"154.5\" y=\"-7.8\" font-family=\"Helvetica,sans-Serif\" font-size=\"14.00\" fill=\"#000000\">class = versicolor</text>\n</g>\n<!-- 2&#45;&gt;3 -->\n<g id=\"edge3\" class=\"edge\">\n<title>2&#45;&gt;3</title>\n<path fill=\"none\" stroke=\"#000000\" d=\"M199.6899,-103.9815C193.9331,-95.0666 187.8404,-85.6313 182.0559,-76.6734\"/>\n<polygon fill=\"#000000\" stroke=\"#000000\" points=\"184.9904,-74.7658 176.6254,-68.2637 179.1099,-78.5631 184.9904,-74.7658\"/>\n</g>\n<!-- 4 -->\n<g id=\"node5\" class=\"node\">\n<title>4</title>\n<polygon fill=\"#853fe6\" stroke=\"#000000\" points=\"360,-68 237,-68 237,0 360,0 360,-68\"/>\n<text text-anchor=\"middle\" x=\"298.5\" y=\"-52.8\" font-family=\"Helvetica,sans-Serif\" font-size=\"14.00\" fill=\"#000000\">entropy = 0.187</text>\n<text text-anchor=\"middle\" x=\"298.5\" y=\"-37.8\" font-family=\"Helvetica,sans-Serif\" font-size=\"14.00\" fill=\"#000000\">samples = 35</text>\n<text text-anchor=\"middle\" x=\"298.5\" y=\"-22.8\" font-family=\"Helvetica,sans-Serif\" font-size=\"14.00\" fill=\"#000000\">value = [0, 1, 34]</text>\n<text text-anchor=\"middle\" x=\"298.5\" y=\"-7.8\" font-family=\"Helvetica,sans-Serif\" font-size=\"14.00\" fill=\"#000000\">class = virginica</text>\n</g>\n<!-- 2&#45;&gt;4 -->\n<g id=\"edge4\" class=\"edge\">\n<title>2&#45;&gt;4</title>\n<path fill=\"none\" stroke=\"#000000\" d=\"M253.3101,-103.9815C259.0669,-95.0666 265.1596,-85.6313 270.9441,-76.6734\"/>\n<polygon fill=\"#000000\" stroke=\"#000000\" points=\"273.8901,-78.5631 276.3746,-68.2637 268.0096,-74.7658 273.8901,-78.5631\"/>\n</g>\n</g>\n</svg>\n"
          },
          "metadata": {},
          "execution_count": 56
        },
        {
          "output_type": "display_data",
          "data": {
            "text/plain": [
              "<Figure size 1440x1440 with 0 Axes>"
            ]
          },
          "metadata": {}
        }
      ]
    },
    {
      "cell_type": "code",
      "metadata": {
        "id": "8utyrzEWDpbQ"
      },
      "source": [
        "# 사후 가지치기\n",
        "#DecisionTreeClassifier.cost_complexity_pruning_path that returns the effective alphas and the corresponding total leaf impurities at each step of the pruning process.\n",
        "# R(T)만 줄이려고 한다면 트리의 규모가 커져 (가지 수가 많아짐) 오버피팅이 될 수 있다. \n",
        "# a는 남길 리프 노드 개수를 정하기 때문에 a를 조절하면서 오버피팅을 방지할 수 있다. \n",
        "# a값이 커질수록 가지치기하는 노드가 많아진다.\n",
        "path = dt_clf_entropy.cost_complexity_pruning_path(X_train, y_train)\n",
        "ccp_alphas, impurities = path.ccp_alphas, path.impurities"
      ],
      "execution_count": null,
      "outputs": []
    },
    {
      "cell_type": "markdown",
      "source": [
        "![image.png](data:image/png;base64,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)"
      ],
      "metadata": {
        "id": "Z4McJI7jAdw9"
      }
    },
    {
      "cell_type": "code",
      "source": [
        "from sklearn import tree\n",
        "\n",
        "clfs = []\n",
        "for ccp_alpha in ccp_alphas:\n",
        "    clf = tree.DecisionTreeClassifier(random_state=2022, ccp_alpha=ccp_alpha)\n",
        "    clf.fit(X_train, y_train)\n",
        "    clfs.append(clf)"
      ],
      "metadata": {
        "id": "whuhk6Rwjt_S"
      },
      "execution_count": null,
      "outputs": []
    },
    {
      "cell_type": "code",
      "source": [
        "clfs = clfs[:-1]\n",
        "ccp_alphas = ccp_alphas[:-1]\n",
        "node_counts = [clf.tree_.node_count for clf in clfs]\n",
        "depth = [clf.tree_.max_depth for clf in clfs]\n",
        "plt.scatter(ccp_alphas,node_counts)\n",
        "plt.scatter(ccp_alphas,depth)\n",
        "plt.plot(ccp_alphas,node_counts,label='no of nodes',drawstyle=\"steps-post\")\n",
        "plt.plot(ccp_alphas,depth,label='depth',drawstyle=\"steps-post\")\n",
        "plt.legend()\n",
        "plt.show()"
      ],
      "metadata": {
        "colab": {
          "base_uri": "https://localhost:8080/",
          "height": 265
        },
        "id": "qYLFtiwGlWRB",
        "outputId": "0a9f025a-4407-4bb6-cbe5-736128cfd745"
      },
      "execution_count": null,
      "outputs": [
        {
          "output_type": "display_data",
          "data": {
            "image/png": "[encoded data removed]",
            "text/plain": [
              "<Figure size 432x288 with 1 Axes>"
            ]
          },
          "metadata": {
            "needs_background": "light"
          }
        }
      ]
    },
    {
      "cell_type": "code",
      "source": [
        "train_acc = []\n",
        "test_acc = []\n",
        "for c in clfs:\n",
        "    y_train_pred = c.predict(X_train)\n",
        "    y_test_pred = c.predict(X_test)\n",
        "    train_acc.append(accuracy_score(y_train_pred,y_train))\n",
        "    test_acc.append(accuracy_score(y_test_pred,y_test))\n",
        "\n",
        "plt.scatter(ccp_alphas,train_acc)\n",
        "plt.scatter(ccp_alphas,test_acc)\n",
        "plt.plot(ccp_alphas,train_acc,label='train_accuracy',drawstyle=\"steps-post\")\n",
        "plt.plot(ccp_alphas,test_acc,label='test_accuracy',drawstyle=\"steps-post\")\n",
        "plt.legend()\n",
        "plt.title('Accuracy vs alpha')\n",
        "plt.show()"
      ],
      "metadata": {
        "colab": {
          "base_uri": "https://localhost:8080/",
          "height": 281
        },
        "id": "bHmRKiheluKC",
        "outputId": "a91f442f-e6ab-477a-e002-d6ff2d3c448d"
      },
      "execution_count": null,
      "outputs": [
        {
          "output_type": "display_data",
          "data": {
            "image/png": "[encoded data removed]",
            "text/plain": [
              "<Figure size 432x288 with 1 Axes>"
            ]
          },
          "metadata": {
            "needs_background": "light"
          }
        }
      ]
    },
    {
      "cell_type": "code",
      "source": [
        "clf_ = tree.DecisionTreeClassifier(random_state=2022,ccp_alpha=0.1)\n",
        "clf_.fit(X_train,y_train)\n",
        "y_train_pred = clf_.predict(X_train)\n",
        "y_test_pred = clf_.predict(X_test)"
      ],
      "metadata": {
        "id": "3CWM0fz0l0th"
      },
      "execution_count": null,
      "outputs": []
    },
    {
      "cell_type": "code",
      "source": [
        "plt.figure(figsize=(20,20))\n",
        "export_graphviz(clf_, out_file='tree.dot', class_names=iris_data.target_names, feature_names=iris_data.feature_names, impurity=True, filled=True)\n",
        "with open('tree.dot') as f:\n",
        "  dot_graph = f.read()\n",
        "graphviz.Source(dot_graph)"
      ],
      "metadata": {
        "colab": {
          "base_uri": "https://localhost:8080/",
          "height": 457
        },
        "id": "GbmXIQ-amCo5",
        "outputId": "43f4a23a-6da2-40b4-a73e-e47ff1ab4a1b"
      },
      "execution_count": null,
      "outputs": [
        {
          "output_type": "execute_result",
          "data": {
            "text/plain": [
              "<graphviz.files.Source at 0x7f88a4520210>"
            ],
            "image/svg+xml": "<?xml version=\"1.0\" encoding=\"UTF-8\" standalone=\"no\"?>\n<!DOCTYPE svg PUBLIC \"-//W3C//DTD SVG 1.1//EN\"\n \"http://www.w3.org/Graphics/SVG/1.1/DTD/svg11.dtd\">\n<!-- Generated by graphviz version 2.40.1 (20161225.0304)\n -->\n<!-- Title: Tree Pages: 1 -->\n<svg width=\"368pt\" height=\"314pt\"\n viewBox=\"0.00 0.00 368.00 314.00\" xmlns=\"http://www.w3.org/2000/svg\" xmlns:xlink=\"http://www.w3.org/1999/xlink\">\n<g id=\"graph0\" class=\"graph\" transform=\"scale(1 1) rotate(0) translate(4 310)\">\n<title>Tree</title>\n<polygon fill=\"#ffffff\" stroke=\"transparent\" points=\"-4,4 -4,-310 364,-310 364,4 -4,4\"/>\n<!-- 0 -->\n<g id=\"node1\" class=\"node\">\n<title>0</title>\n<polygon fill=\"#fcfffd\" stroke=\"#000000\" points=\"228.5,-306 58.5,-306 58.5,-223 228.5,-223 228.5,-306\"/>\n<text text-anchor=\"middle\" x=\"143.5\" y=\"-290.8\" font-family=\"Helvetica,sans-Serif\" font-size=\"14.00\" fill=\"#000000\">petal width (cm) &lt;= 0.75</text>\n<text text-anchor=\"middle\" x=\"143.5\" y=\"-275.8\" font-family=\"Helvetica,sans-Serif\" font-size=\"14.00\" fill=\"#000000\">gini = 0.666</text>\n<text text-anchor=\"middle\" x=\"143.5\" y=\"-260.8\" font-family=\"Helvetica,sans-Serif\" font-size=\"14.00\" fill=\"#000000\">samples = 120</text>\n<text text-anchor=\"middle\" x=\"143.5\" y=\"-245.8\" font-family=\"Helvetica,sans-Serif\" font-size=\"14.00\" fill=\"#000000\">value = [41, 42, 37]</text>\n<text text-anchor=\"middle\" x=\"143.5\" y=\"-230.8\" font-family=\"Helvetica,sans-Serif\" font-size=\"14.00\" fill=\"#000000\">class = versicolor</text>\n</g>\n<!-- 1 -->\n<g id=\"node2\" class=\"node\">\n<title>1</title>\n<polygon fill=\"#e58139\" stroke=\"#000000\" points=\"123,-179.5 0,-179.5 0,-111.5 123,-111.5 123,-179.5\"/>\n<text text-anchor=\"middle\" x=\"61.5\" y=\"-164.3\" font-family=\"Helvetica,sans-Serif\" font-size=\"14.00\" fill=\"#000000\">gini = 0.0</text>\n<text text-anchor=\"middle\" x=\"61.5\" y=\"-149.3\" font-family=\"Helvetica,sans-Serif\" font-size=\"14.00\" fill=\"#000000\">samples = 41</text>\n<text text-anchor=\"middle\" x=\"61.5\" y=\"-134.3\" font-family=\"Helvetica,sans-Serif\" font-size=\"14.00\" fill=\"#000000\">value = [41, 0, 0]</text>\n<text text-anchor=\"middle\" x=\"61.5\" y=\"-119.3\" font-family=\"Helvetica,sans-Serif\" font-size=\"14.00\" fill=\"#000000\">class = setosa</text>\n</g>\n<!-- 0&#45;&gt;1 -->\n<g id=\"edge1\" class=\"edge\">\n<title>0&#45;&gt;1</title>\n<path fill=\"none\" stroke=\"#000000\" d=\"M114.8204,-222.8796C107.0917,-211.6636 98.7191,-199.5131 90.9492,-188.2372\"/>\n<polygon fill=\"#000000\" stroke=\"#000000\" points=\"93.7018,-186.0634 85.1456,-179.8149 87.9377,-190.0353 93.7018,-186.0634\"/>\n<text text-anchor=\"middle\" x=\"80.6196\" y=\"-200.7018\" font-family=\"Helvetica,sans-Serif\" font-size=\"14.00\" fill=\"#000000\">True</text>\n</g>\n<!-- 2 -->\n<g id=\"node3\" class=\"node\">\n<title>2</title>\n<polygon fill=\"#e7fcf0\" stroke=\"#000000\" points=\"311.5,-187 141.5,-187 141.5,-104 311.5,-104 311.5,-187\"/>\n<text text-anchor=\"middle\" x=\"226.5\" y=\"-171.8\" font-family=\"Helvetica,sans-Serif\" font-size=\"14.00\" fill=\"#000000\">petal width (cm) &lt;= 1.75</text>\n<text text-anchor=\"middle\" x=\"226.5\" y=\"-156.8\" font-family=\"Helvetica,sans-Serif\" font-size=\"14.00\" fill=\"#000000\">gini = 0.498</text>\n<text text-anchor=\"middle\" x=\"226.5\" y=\"-141.8\" font-family=\"Helvetica,sans-Serif\" font-size=\"14.00\" fill=\"#000000\">samples = 79</text>\n<text text-anchor=\"middle\" x=\"226.5\" y=\"-126.8\" font-family=\"Helvetica,sans-Serif\" font-size=\"14.00\" fill=\"#000000\">value = [0, 42, 37]</text>\n<text text-anchor=\"middle\" x=\"226.5\" y=\"-111.8\" font-family=\"Helvetica,sans-Serif\" font-size=\"14.00\" fill=\"#000000\">class = versicolor</text>\n</g>\n<!-- 0&#45;&gt;2 -->\n<g id=\"edge2\" class=\"edge\">\n<title>0&#45;&gt;2</title>\n<path fill=\"none\" stroke=\"#000000\" d=\"M172.5294,-222.8796C178.6855,-214.0534 185.2451,-204.6485 191.5936,-195.5466\"/>\n<polygon fill=\"#000000\" stroke=\"#000000\" points=\"194.4967,-197.5024 197.3467,-187.2981 188.7552,-193.4978 194.4967,-197.5024\"/>\n<text text-anchor=\"middle\" x=\"201.7331\" y=\"-208.2103\" font-family=\"Helvetica,sans-Serif\" font-size=\"14.00\" fill=\"#000000\">False</text>\n</g>\n<!-- 3 -->\n<g id=\"node4\" class=\"node\">\n<title>3</title>\n<polygon fill=\"#47e78a\" stroke=\"#000000\" points=\"218.5,-68 90.5,-68 90.5,0 218.5,0 218.5,-68\"/>\n<text text-anchor=\"middle\" x=\"154.5\" y=\"-52.8\" font-family=\"Helvetica,sans-Serif\" font-size=\"14.00\" fill=\"#000000\">gini = 0.127</text>\n<text text-anchor=\"middle\" x=\"154.5\" y=\"-37.8\" font-family=\"Helvetica,sans-Serif\" font-size=\"14.00\" fill=\"#000000\">samples = 44</text>\n<text text-anchor=\"middle\" x=\"154.5\" y=\"-22.8\" font-family=\"Helvetica,sans-Serif\" font-size=\"14.00\" fill=\"#000000\">value = [0, 41, 3]</text>\n<text text-anchor=\"middle\" x=\"154.5\" y=\"-7.8\" font-family=\"Helvetica,sans-Serif\" font-size=\"14.00\" fill=\"#000000\">class = versicolor</text>\n</g>\n<!-- 2&#45;&gt;3 -->\n<g id=\"edge3\" class=\"edge\">\n<title>2&#45;&gt;3</title>\n<path fill=\"none\" stroke=\"#000000\" d=\"M199.6899,-103.9815C193.9331,-95.0666 187.8404,-85.6313 182.0559,-76.6734\"/>\n<polygon fill=\"#000000\" stroke=\"#000000\" points=\"184.9904,-74.7658 176.6254,-68.2637 179.1099,-78.5631 184.9904,-74.7658\"/>\n</g>\n<!-- 4 -->\n<g id=\"node5\" class=\"node\">\n<title>4</title>\n<polygon fill=\"#853fe6\" stroke=\"#000000\" points=\"360,-68 237,-68 237,0 360,0 360,-68\"/>\n<text text-anchor=\"middle\" x=\"298.5\" y=\"-52.8\" font-family=\"Helvetica,sans-Serif\" font-size=\"14.00\" fill=\"#000000\">gini = 0.056</text>\n<text text-anchor=\"middle\" x=\"298.5\" y=\"-37.8\" font-family=\"Helvetica,sans-Serif\" font-size=\"14.00\" fill=\"#000000\">samples = 35</text>\n<text text-anchor=\"middle\" x=\"298.5\" y=\"-22.8\" font-family=\"Helvetica,sans-Serif\" font-size=\"14.00\" fill=\"#000000\">value = [0, 1, 34]</text>\n<text text-anchor=\"middle\" x=\"298.5\" y=\"-7.8\" font-family=\"Helvetica,sans-Serif\" font-size=\"14.00\" fill=\"#000000\">class = virginica</text>\n</g>\n<!-- 2&#45;&gt;4 -->\n<g id=\"edge4\" class=\"edge\">\n<title>2&#45;&gt;4</title>\n<path fill=\"none\" stroke=\"#000000\" d=\"M253.3101,-103.9815C259.0669,-95.0666 265.1596,-85.6313 270.9441,-76.6734\"/>\n<polygon fill=\"#000000\" stroke=\"#000000\" points=\"273.8901,-78.5631 276.3746,-68.2637 268.0096,-74.7658 273.8901,-78.5631\"/>\n</g>\n</g>\n</svg>\n"
          },
          "metadata": {},
          "execution_count": 79
        },
        {
          "output_type": "display_data",
          "data": {
            "text/plain": [
              "<Figure size 1440x1440 with 0 Axes>"
            ]
          },
          "metadata": {}
        }
      ]
    },
    {
      "cell_type": "code",
      "source": [
        "# https://www.kaggle.com/arunmohan003/pruning-decision-trees-tutorial (참조)\n",
        "# https://velog.io/@emseoyk/%ED%95%B8%EC%A6%88%EC%98%A8-ML-with-Kaggle-6.-Decision-Tree-Pruning (참조)"
      ],
      "metadata": {
        "id": "wtreQthpmIag"
      },
      "execution_count": null,
      "outputs": []
    }
  ]
}